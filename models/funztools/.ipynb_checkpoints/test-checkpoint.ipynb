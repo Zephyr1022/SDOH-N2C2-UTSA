{
 "cells": [
  {
   "cell_type": "code",
   "execution_count": 1,
   "metadata": {},
   "outputs": [
    {
     "name": "stdout",
     "output_type": "stream",
     "text": [
      "True\n"
     ]
    }
   ],
   "source": [
    "#!/usr/bin/env python3\n",
    "import os, sys\n",
    "import yamlbase\n",
    "from yamlbase import read_data\n",
    "\n",
    "\n",
    "def list_parse_yaml():\n",
    "\tyaml_data = read_data.ReadData(\"search_data.yaml\").loading_data()\n",
    "\tlist_data = []\n",
    "\tfor i in yaml_data.keys():\n",
    "\t\tlist_data.append((i,yaml_data.get(i).get('input_text'), yaml_data.get(i).get('para')))\n",
    "\t\t\t\t\n",
    "\treturn yaml_data\n",
    "\n",
    "\n",
    "\t#yaml_data = read_data.ReadData(\"search_data.yaml\").loading_data()\n",
    "\n",
    "\t#list_data = []\n",
    "\t#for i in yaml_data.keys():\n",
    "#\tlist_data.append((i,yaml_data.get(i).get('input_text')))\n",
    "\t\n",
    "\t#print(list_data)\n",
    "\t\n",
    "a = list_parse_yaml()\n",
    "print(a['search_test_001']['bert_finetune'])\n"
   ]
  },
  {
   "cell_type": "code",
   "execution_count": null,
   "metadata": {},
   "outputs": [],
   "source": []
  }
 ],
 "metadata": {
  "kernelspec": {
   "display_name": "Python 3",
   "language": "python",
   "name": "python3"
  },
  "language_info": {
   "codemirror_mode": {
    "name": "ipython",
    "version": 3
   },
   "file_extension": ".py",
   "mimetype": "text/x-python",
   "name": "python",
   "nbconvert_exporter": "python",
   "pygments_lexer": "ipython3",
   "version": "3.9.1"
  }
 },
 "nbformat": 4,
 "nbformat_minor": 4
}
